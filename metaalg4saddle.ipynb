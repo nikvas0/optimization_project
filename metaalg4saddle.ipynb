{
 "cells": [
  {
   "cell_type": "code",
   "execution_count": 1,
   "metadata": {},
   "outputs": [],
   "source": [
    "import numpy as np\n",
    "import matplotlib\n",
    "import experiment"
   ]
  },
  {
   "cell_type": "code",
   "execution_count": 2,
   "metadata": {},
   "outputs": [],
   "source": [
    "exp, f, G, h = experiment.generateQuadraticFormExperiment(\n",
    "        50, 50,\n",
    "        {'L': 4, 'mu': 2},\n",
    "        {'min': -0, 'max': 0},\n",
    "        {'L': 5, 'mu': 3},\n",
    "        423\n",
    "    )"
   ]
  },
  {
   "cell_type": "code",
   "execution_count": 3,
   "metadata": {},
   "outputs": [
    {
     "data": {
      "text/plain": [
       "{'L_f': 4.000000000000017,\n",
       " 'L_G': 0.0,\n",
       " 'L_h': 4.999999999999984,\n",
       " 'mu_x': 2.000000000000003,\n",
       " 'mu_y': 3.000000000000009}"
      ]
     },
     "execution_count": 3,
     "metadata": {},
     "output_type": "execute_result"
    }
   ],
   "source": [
    "exp.constants()"
   ]
  },
  {
   "cell_type": "code",
   "execution_count": 31,
   "metadata": {},
   "outputs": [],
   "source": [
    "x_0 = np.random.random(50)\n",
    "y, stats = experiment.runSaddleExperiment(exp, {\n",
    "    'x_0': x_0,\n",
    "    'y_0': np.random.random(50),\n",
    "    'out': {\n",
    "        'H': 4 * 3,\n",
    "        'K': 20,\n",
    "        'stop_callback': None\n",
    "    },\n",
    "    'out_nesterov': {\n",
    "        'K': 5,\n",
    "        'Li': np.array([12] * 50),\n",
    "        'S': np.array([20] * 50),\n",
    "        'stop_callback': None\n",
    "    },\n",
    "    'in': {\n",
    "        'H': 5 * 3,\n",
    "        'K': 10,\n",
    "        'stop_callback': None\n",
    "    },\n",
    "    'in_nesterov': {\n",
    "        'K': 5,\n",
    "        'Li': np.array([15] * 50),\n",
    "        'S': np.array([20] * 50),\n",
    "        'stop_callback': None\n",
    "    }\n",
    "})\n"
   ]
  },
  {
   "cell_type": "code",
   "execution_count": 32,
   "metadata": {},
   "outputs": [
    {
     "data": {
      "text/plain": [
       "(14.863388353257404, 13.26099967644201)"
      ]
     },
     "execution_count": 32,
     "metadata": {},
     "output_type": "execute_result"
    }
   ],
   "source": [
    "np.sum(y**2), np.sum(x_0**2)"
   ]
  },
  {
   "cell_type": "code",
   "execution_count": null,
   "metadata": {},
   "outputs": [],
   "source": []
  },
  {
   "cell_type": "code",
   "execution_count": 33,
   "metadata": {},
   "outputs": [],
   "source": [
    "with open('stat1.txt', 'w') as f:\n",
    "    print(stats, file=f)"
   ]
  },
  {
   "cell_type": "code",
   "execution_count": null,
   "metadata": {},
   "outputs": [],
   "source": []
  },
  {
   "cell_type": "code",
   "execution_count": null,
   "metadata": {},
   "outputs": [],
   "source": []
  }
 ],
 "metadata": {
  "kernelspec": {
   "display_name": "Python 3",
   "language": "python",
   "name": "python3"
  },
  "language_info": {
   "codemirror_mode": {
    "name": "ipython",
    "version": 3
   },
   "file_extension": ".py",
   "mimetype": "text/x-python",
   "name": "python",
   "nbconvert_exporter": "python",
   "pygments_lexer": "ipython3",
   "version": "3.7.3"
  }
 },
 "nbformat": 4,
 "nbformat_minor": 2
}
