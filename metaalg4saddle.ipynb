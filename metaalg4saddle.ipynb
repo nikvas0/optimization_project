{
 "cells": [
  {
   "cell_type": "code",
   "execution_count": 1,
   "metadata": {},
   "outputs": [],
   "source": [
    "import numpy as np\n",
    "import matplotlib\n",
    "import experiment"
   ]
  },
  {
   "cell_type": "code",
   "execution_count": 2,
   "metadata": {},
   "outputs": [],
   "source": [
    "exp, f, G, h = experiment.generateQuadraticFormExperiment(\n",
    "        50, 50,\n",
    "        {'L': 4, 'mu': 2},\n",
    "        {'min': -0, 'max': 0},\n",
    "        {'L': 5, 'mu': 3},\n",
    "        423\n",
    "    )"
   ]
  },
  {
   "cell_type": "code",
   "execution_count": 3,
   "metadata": {},
   "outputs": [
    {
     "data": {
      "text/plain": [
       "{'L_f': 4.000000000000017,\n",
       " 'L_G': 0.0,\n",
       " 'L_h': 4.999999999999984,\n",
       " 'mu_x': 2.000000000000003,\n",
       " 'mu_y': 3.000000000000009}"
      ]
     },
     "execution_count": 3,
     "metadata": {},
     "output_type": "execute_result"
    }
   ],
   "source": [
    "exp.constants()"
   ]
  },
  {
   "cell_type": "code",
   "execution_count": 4,
   "metadata": {},
   "outputs": [],
   "source": [
    "x_0 = np.random.random(50)\n",
    "y_0 = np.random.random(50)\n",
    "x, y, stats = experiment.runSaddleExperiment(exp, {\n",
    "    'x_0': x_0,\n",
    "    'y_0': y_0,\n",
    "    'out': {\n",
    "        'H': 4 * 2.5,\n",
    "        'K': 50,\n",
    "        'stop_callback': None\n",
    "    },\n",
    "    'out_nesterov': {\n",
    "        'K': 10,\n",
    "        'Li': np.array([12] * 50),\n",
    "        'S': np.array([13] * 50),\n",
    "        'stop_callback': None\n",
    "    },\n",
    "    'in': {\n",
    "        'H': 5 * 2.5,\n",
    "        'K': 50,\n",
    "        'stop_callback': None\n",
    "    },\n",
    "    'in_nesterov': {\n",
    "        'K': 10,\n",
    "        'Li': np.array([15] * 50),\n",
    "        'S': np.array([16] * 50),\n",
    "        'stop_callback': None\n",
    "    }\n",
    "})\n"
   ]
  },
  {
   "cell_type": "code",
   "execution_count": 5,
   "metadata": {},
   "outputs": [
    {
     "data": {
      "text/plain": [
       "(0.001432292294917484,\n",
       " 16.68736108156171,\n",
       " 0.0015028779666686211,\n",
       " 18.456649155225342)"
      ]
     },
     "execution_count": 5,
     "metadata": {},
     "output_type": "execute_result"
    }
   ],
   "source": [
    "np.sum(x**2), np.sum(x_0**2), np.sum(y**2), np.sum(y_0**2)"
   ]
  },
  {
   "cell_type": "code",
   "execution_count": null,
   "metadata": {},
   "outputs": [],
   "source": []
  },
  {
   "cell_type": "code",
   "execution_count": 6,
   "metadata": {},
   "outputs": [],
   "source": [
    "with open('stat1.txt', 'w') as f:\n",
    "    print(stats, file=f)"
   ]
  },
  {
   "cell_type": "code",
   "execution_count": null,
   "metadata": {},
   "outputs": [],
   "source": []
  },
  {
   "cell_type": "code",
   "execution_count": null,
   "metadata": {},
   "outputs": [],
   "source": []
  }
 ],
 "metadata": {
  "kernelspec": {
   "display_name": "Python 3",
   "language": "python",
   "name": "python3"
  },
  "language_info": {
   "codemirror_mode": {
    "name": "ipython",
    "version": 3
   },
   "file_extension": ".py",
   "mimetype": "text/x-python",
   "name": "python",
   "nbconvert_exporter": "python",
   "pygments_lexer": "ipython3",
   "version": "3.7.3"
  }
 },
 "nbformat": 4,
 "nbformat_minor": 2
}
